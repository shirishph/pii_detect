{
  "nbformat": 4,
  "nbformat_minor": 0,
  "metadata": {
    "colab": {
      "provenance": [],
      "authorship_tag": "ABX9TyM1vYqZzcbAyXDBFqegUIU2",
      "include_colab_link": true
    },
    "kernelspec": {
      "name": "python3",
      "display_name": "Python 3"
    },
    "language_info": {
      "name": "python"
    }
  },
  "cells": [
    {
      "cell_type": "markdown",
      "metadata": {
        "id": "view-in-github",
        "colab_type": "text"
      },
      "source": [
        "<a href=\"https://colab.research.google.com/github/shirishph/pii_detect/blob/main/data_gen.ipynb\" target=\"_parent\"><img src=\"https://colab.research.google.com/assets/colab-badge.svg\" alt=\"Open In Colab\"/></a>"
      ]
    },
    {
      "cell_type": "code",
      "execution_count": 3,
      "metadata": {
        "colab": {
          "base_uri": "https://localhost:8080/"
        },
        "id": "slbZtrIPO9FN",
        "outputId": "e7d92b14-6870-4e17-9869-85aa357e8a8b"
      },
      "outputs": [
        {
          "output_type": "stream",
          "name": "stdout",
          "text": [
            "Collecting faker\n",
            "  Downloading Faker-30.3.0-py3-none-any.whl.metadata (15 kB)\n",
            "Requirement already satisfied: python-dateutil>=2.4 in /usr/local/lib/python3.10/dist-packages (from faker) (2.8.2)\n",
            "Requirement already satisfied: typing-extensions in /usr/local/lib/python3.10/dist-packages (from faker) (4.12.2)\n",
            "Requirement already satisfied: six>=1.5 in /usr/local/lib/python3.10/dist-packages (from python-dateutil>=2.4->faker) (1.16.0)\n",
            "Downloading Faker-30.3.0-py3-none-any.whl (1.8 MB)\n",
            "\u001b[2K   \u001b[90m━━━━━━━━━━━━━━━━━━━━━━━━━━━━━━━━━━━━━━━━\u001b[0m \u001b[32m1.8/1.8 MB\u001b[0m \u001b[31m19.1 MB/s\u001b[0m eta \u001b[36m0:00:00\u001b[0m\n",
            "\u001b[?25hInstalling collected packages: faker\n",
            "Successfully installed faker-30.3.0\n"
          ]
        }
      ],
      "source": [
        "!pip install faker"
      ]
    },
    {
      "cell_type": "code",
      "source": [
        "credit_cards = []\n",
        "date_times = []\n",
        "emails = []\n",
        "TOTAL_DATAPOINTS = 3"
      ],
      "metadata": {
        "id": "86rvM-Qpw2c2"
      },
      "execution_count": 39,
      "outputs": []
    },
    {
      "cell_type": "code",
      "source": [
        "from faker import Faker\n",
        "fake = Faker()\n",
        "\n",
        "for i in range(TOTAL_DATAPOINTS):\n",
        "  credit_cards.append(fake.credit_card_full().split(\"\\n\")[2].split(\" \")[0])\n",
        "  date_times.append(fake.date_time().strftime(\"%Y-%m-%d %H:%M:%S.%f\"))\n",
        "  emails.append(fake.email())"
      ],
      "metadata": {
        "id": "dD_jANxuvRPd"
      },
      "execution_count": 40,
      "outputs": []
    },
    {
      "cell_type": "code",
      "source": [
        "print(\"credit_cards: \", credit_cards)\n",
        "print(\"date_times: \", date_times)\n",
        "print(\"emails: \", emails)"
      ],
      "metadata": {
        "colab": {
          "base_uri": "https://localhost:8080/"
        },
        "id": "UmRxnihMxKuD",
        "outputId": "070fa384-200d-4df5-c4a6-793ad466335b"
      },
      "execution_count": 46,
      "outputs": [
        {
          "output_type": "stream",
          "name": "stdout",
          "text": [
            "credit_cards:  ['4608033822921', '213114230590871', '4660534657862497']\n",
            "date_times:  ['1970-01-29 17:41:05.750272', '2018-12-23 19:26:03.681751', '1988-09-26 14:35:28.833711']\n",
            "emails:  ['jamiecabrera@example.com', 'reynoldsjames@example.com', 'ctrevino@example.org']\n"
          ]
        }
      ]
    },
    {
      "cell_type": "code",
      "source": [
        "with open('pii_dataset.tsv', 'w') as file:\n",
        "  for i in range(TOTAL_DATAPOINTS):\n",
        "    file.write(\"credit_card\\t\" + credit_cards[i] + \"\\n\")\n",
        "    file.write(\"date_time\\t\" + date_times[i] + \"\\n\")\n",
        "    file.write(\"email\\t\" + emails[i] + \"\\n\")"
      ],
      "metadata": {
        "colab": {
          "base_uri": "https://localhost:8080/"
        },
        "id": "WA5DlpQnu7ov",
        "outputId": "41768c53-9bce-450b-fe5c-71d5eabd3c63"
      },
      "execution_count": 49,
      "outputs": [
        {
          "output_type": "stream",
          "name": "stdout",
          "text": [
            "4608033822921\t1970-01-29 17:41:05.750272\tjamiecabrera@example.com\n",
            "213114230590871\t2018-12-23 19:26:03.681751\treynoldsjames@example.com\n",
            "4660534657862497\t1988-09-26 14:35:28.833711\tctrevino@example.org\n"
          ]
        }
      ]
    }
  ]
}